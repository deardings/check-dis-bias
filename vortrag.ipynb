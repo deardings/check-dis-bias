{
 "cells": [
  {
   "cell_type": "markdown",
   "id": "5e5b6e54",
   "metadata": {
    "slideshow": {
     "slide_type": "slide"
    }
   },
   "source": [
    "## Überprüfung modellspezifischer Fortschritte bezüglich Disability Bias bei der LLM-basierten Bewertung von Lebensläufen"
   ]
  },
  {
   "cell_type": "code",
   "execution_count": null,
   "id": "c35e3893",
   "metadata": {},
   "outputs": [],
   "source": []
  },
  {
   "cell_type": "code",
   "execution_count": null,
   "id": "ea243a69",
   "metadata": {
    "slideshow": {
     "slide_type": "slide"
    }
   },
   "outputs": [],
   "source": []
  }
 ],
 "metadata": {
  "kernelspec": {
   "display_name": ".venv",
   "language": "python",
   "name": "python3"
  },
  "language_info": {
   "name": "python",
   "version": "3.13.0"
  }
 },
 "nbformat": 4,
 "nbformat_minor": 5
}
